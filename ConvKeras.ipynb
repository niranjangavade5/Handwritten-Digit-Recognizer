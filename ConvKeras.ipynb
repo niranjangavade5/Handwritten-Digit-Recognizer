{
 "cells": [
  {
   "cell_type": "markdown",
   "metadata": {},
   "source": [
    "# Training a Keras network for Digit Recognition - Acc 0.996 (top 10%)"
   ]
  },
  {
   "cell_type": "markdown",
   "metadata": {},
   "source": [
    "## Importing python modules"
   ]
  },
  {
   "cell_type": "code",
   "execution_count": 1,
   "metadata": {},
   "outputs": [
    {
     "name": "stderr",
     "output_type": "stream",
     "text": [
      "Using TensorFlow backend.\n"
     ]
    }
   ],
   "source": [
    "import pandas as pd\n",
    "import numpy as np\n",
    "import matplotlib.pyplot as plt\n",
    "import keras\n",
    "from sklearn.model_selection import train_test_split"
   ]
  },
  {
   "cell_type": "markdown",
   "metadata": {},
   "source": [
    "## Loading train & test data"
   ]
  },
  {
   "cell_type": "code",
   "execution_count": 2,
   "metadata": {},
   "outputs": [
    {
     "data": {
      "text/plain": [
       "(42000, 785)"
      ]
     },
     "execution_count": 2,
     "metadata": {},
     "output_type": "execute_result"
    }
   ],
   "source": [
    "train = pd.read_csv('./dataset/train.csv')\n" # change this path to access your train file,
    "test = pd.read_csv('./dataset/test.csv')\n" # change this path to access your test file,
    "train.shape"
   ]
  },
  {
   "cell_type": "markdown",
   "metadata": {},
   "source": [
    "## Separating labels from image pixels from train dataset"
   ]
  },
  {
   "cell_type": "code",
   "execution_count": 3,
   "metadata": {},
   "outputs": [],
   "source": [
    "y_train = train['label']\n",
    "train.drop(axis=1, labels=['label'], inplace=True)"
   ]
  },
  {
   "cell_type": "markdown",
   "metadata": {},
   "source": [
    "## Checking if label of each image is separated from its pixels"
   ]
  },
  {
   "cell_type": "code",
   "execution_count": 4,
   "metadata": {},
   "outputs": [
    {
     "data": {
      "text/html": [
       "<div>\n",
       "<style scoped>\n",
       "    .dataframe tbody tr th:only-of-type {\n",
       "        vertical-align: middle;\n",
       "    }\n",
       "\n",
       "    .dataframe tbody tr th {\n",
       "        vertical-align: top;\n",
       "    }\n",
       "\n",
       "    .dataframe thead th {\n",
       "        text-align: right;\n",
       "    }\n",
       "</style>\n",
       "<table border=\"1\" class=\"dataframe\">\n",
       "  <thead>\n",
       "    <tr style=\"text-align: right;\">\n",
       "      <th></th>\n",
       "      <th>pixel0</th>\n",
       "      <th>pixel1</th>\n",
       "      <th>pixel2</th>\n",
       "      <th>pixel3</th>\n",
       "      <th>pixel4</th>\n",
       "      <th>pixel5</th>\n",
       "      <th>pixel6</th>\n",
       "      <th>pixel7</th>\n",
       "      <th>pixel8</th>\n",
       "      <th>pixel9</th>\n",
       "      <th>...</th>\n",
       "      <th>pixel774</th>\n",
       "      <th>pixel775</th>\n",
       "      <th>pixel776</th>\n",
       "      <th>pixel777</th>\n",
       "      <th>pixel778</th>\n",
       "      <th>pixel779</th>\n",
       "      <th>pixel780</th>\n",
       "      <th>pixel781</th>\n",
       "      <th>pixel782</th>\n",
       "      <th>pixel783</th>\n",
       "    </tr>\n",
       "  </thead>\n",
       "  <tbody>\n",
       "    <tr>\n",
       "      <th>0</th>\n",
       "      <td>0</td>\n",
       "      <td>0</td>\n",
       "      <td>0</td>\n",
       "      <td>0</td>\n",
       "      <td>0</td>\n",
       "      <td>0</td>\n",
       "      <td>0</td>\n",
       "      <td>0</td>\n",
       "      <td>0</td>\n",
       "      <td>0</td>\n",
       "      <td>...</td>\n",
       "      <td>0</td>\n",
       "      <td>0</td>\n",
       "      <td>0</td>\n",
       "      <td>0</td>\n",
       "      <td>0</td>\n",
       "      <td>0</td>\n",
       "      <td>0</td>\n",
       "      <td>0</td>\n",
       "      <td>0</td>\n",
       "      <td>0</td>\n",
       "    </tr>\n",
       "    <tr>\n",
       "      <th>1</th>\n",
       "      <td>0</td>\n",
       "      <td>0</td>\n",
       "      <td>0</td>\n",
       "      <td>0</td>\n",
       "      <td>0</td>\n",
       "      <td>0</td>\n",
       "      <td>0</td>\n",
       "      <td>0</td>\n",
       "      <td>0</td>\n",
       "      <td>0</td>\n",
       "      <td>...</td>\n",
       "      <td>0</td>\n",
       "      <td>0</td>\n",
       "      <td>0</td>\n",
       "      <td>0</td>\n",
       "      <td>0</td>\n",
       "      <td>0</td>\n",
       "      <td>0</td>\n",
       "      <td>0</td>\n",
       "      <td>0</td>\n",
       "      <td>0</td>\n",
       "    </tr>\n",
       "    <tr>\n",
       "      <th>2</th>\n",
       "      <td>0</td>\n",
       "      <td>0</td>\n",
       "      <td>0</td>\n",
       "      <td>0</td>\n",
       "      <td>0</td>\n",
       "      <td>0</td>\n",
       "      <td>0</td>\n",
       "      <td>0</td>\n",
       "      <td>0</td>\n",
       "      <td>0</td>\n",
       "      <td>...</td>\n",
       "      <td>0</td>\n",
       "      <td>0</td>\n",
       "      <td>0</td>\n",
       "      <td>0</td>\n",
       "      <td>0</td>\n",
       "      <td>0</td>\n",
       "      <td>0</td>\n",
       "      <td>0</td>\n",
       "      <td>0</td>\n",
       "      <td>0</td>\n",
       "    </tr>\n",
       "    <tr>\n",
       "      <th>3</th>\n",
       "      <td>0</td>\n",
       "      <td>0</td>\n",
       "      <td>0</td>\n",
       "      <td>0</td>\n",
       "      <td>0</td>\n",
       "      <td>0</td>\n",
       "      <td>0</td>\n",
       "      <td>0</td>\n",
       "      <td>0</td>\n",
       "      <td>0</td>\n",
       "      <td>...</td>\n",
       "      <td>0</td>\n",
       "      <td>0</td>\n",
       "      <td>0</td>\n",
       "      <td>0</td>\n",
       "      <td>0</td>\n",
       "      <td>0</td>\n",
       "      <td>0</td>\n",
       "      <td>0</td>\n",
       "      <td>0</td>\n",
       "      <td>0</td>\n",
       "    </tr>\n",
       "    <tr>\n",
       "      <th>4</th>\n",
       "      <td>0</td>\n",
       "      <td>0</td>\n",
       "      <td>0</td>\n",
       "      <td>0</td>\n",
       "      <td>0</td>\n",
       "      <td>0</td>\n",
       "      <td>0</td>\n",
       "      <td>0</td>\n",
       "      <td>0</td>\n",
       "      <td>0</td>\n",
       "      <td>...</td>\n",
       "      <td>0</td>\n",
       "      <td>0</td>\n",
       "      <td>0</td>\n",
       "      <td>0</td>\n",
       "      <td>0</td>\n",
       "      <td>0</td>\n",
       "      <td>0</td>\n",
       "      <td>0</td>\n",
       "      <td>0</td>\n",
       "      <td>0</td>\n",
       "    </tr>\n",
       "  </tbody>\n",
       "</table>\n",
       "<p>5 rows × 784 columns</p>\n",
       "</div>"
      ],
      "text/plain": [
       "   pixel0  pixel1  pixel2  pixel3  pixel4  pixel5  pixel6  pixel7  pixel8  \\\n",
       "0       0       0       0       0       0       0       0       0       0   \n",
       "1       0       0       0       0       0       0       0       0       0   \n",
       "2       0       0       0       0       0       0       0       0       0   \n",
       "3       0       0       0       0       0       0       0       0       0   \n",
       "4       0       0       0       0       0       0       0       0       0   \n",
       "\n",
       "   pixel9    ...     pixel774  pixel775  pixel776  pixel777  pixel778  \\\n",
       "0       0    ...            0         0         0         0         0   \n",
       "1       0    ...            0         0         0         0         0   \n",
       "2       0    ...            0         0         0         0         0   \n",
       "3       0    ...            0         0         0         0         0   \n",
       "4       0    ...            0         0         0         0         0   \n",
       "\n",
       "   pixel779  pixel780  pixel781  pixel782  pixel783  \n",
       "0         0         0         0         0         0  \n",
       "1         0         0         0         0         0  \n",
       "2         0         0         0         0         0  \n",
       "3         0         0         0         0         0  \n",
       "4         0         0         0         0         0  \n",
       "\n",
       "[5 rows x 784 columns]"
      ]
     },
     "execution_count": 4,
     "metadata": {},
     "output_type": "execute_result"
    }
   ],
   "source": [
    "train.head()"
   ]
  },
  {
   "cell_type": "markdown",
   "metadata": {},
   "source": [
    "## Getting insights from our train dataset"
   ]
  },
  {
   "cell_type": "code",
   "execution_count": 5,
   "metadata": {},
   "outputs": [
    {
     "data": {
      "text/plain": [
       "1    4684\n",
       "7    4401\n",
       "3    4351\n",
       "9    4188\n",
       "2    4177\n",
       "6    4137\n",
       "0    4132\n",
       "4    4072\n",
       "8    4063\n",
       "5    3795\n",
       "Name: label, dtype: int64"
      ]
     },
     "execution_count": 5,
     "metadata": {},
     "output_type": "execute_result"
    }
   ],
   "source": [
    "y_train.value_counts()    ## Images of 1's is maximum & Images of 5's is minimum"
   ]
  },
  {
   "cell_type": "markdown",
   "metadata": {},
   "source": [
    "## Normalization"
   ]
  },
  {
   "cell_type": "code",
   "execution_count": 6,
   "metadata": {},
   "outputs": [],
   "source": [
    "train /= 255.\n",
    "test /= 255."
   ]
  },
  {
   "cell_type": "markdown",
   "metadata": {},
   "source": [
    "## Changing data-tpe of our feature's to float32"
   ]
  },
  {
   "cell_type": "code",
   "execution_count": 7,
   "metadata": {},
   "outputs": [],
   "source": [
    "test = np.array(test).astype(np.float32)\n",
    "X = np.array(train).astype(np.float32)\n",
    "del train"
   ]
  },
  {
   "cell_type": "markdown",
   "metadata": {},
   "source": [
    "## Reshaping our Images - converting them into 2D images"
   ]
  },
  {
   "cell_type": "code",
   "execution_count": 8,
   "metadata": {},
   "outputs": [],
   "source": [
    "X = X.reshape(-1,28,28,1)\n",
    "test = test.reshape(-1,28,28,1)"
   ]
  },
  {
   "cell_type": "markdown",
   "metadata": {},
   "source": [
    "## Visualising our train data"
   ]
  },
  {
   "cell_type": "code",
   "execution_count": 9,
   "metadata": {},
   "outputs": [
    {
     "name": "stdout",
     "output_type": "stream",
     "text": [
      "label = 1\n"
     ]
    },
    {
     "data": {
      "image/png": "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\n",
      "text/plain": [
       "<Figure size 432x288 with 1 Axes>"
      ]
     },
     "metadata": {},
     "output_type": "display_data"
    }
   ],
   "source": [
    "plt.imshow(X[0][:,:,0], cmap='gray')\n",
    "print('label = '+str(y_train[0]))"
   ]
  },
  {
   "cell_type": "markdown",
   "metadata": {},
   "source": [
    "## One-hot-encoding labels for training"
   ]
  },
  {
   "cell_type": "code",
   "execution_count": 10,
   "metadata": {},
   "outputs": [],
   "source": [
    "yOHE = keras.utils.to_categorical(y_train, num_classes=10)"
   ]
  },
  {
   "cell_type": "markdown",
   "metadata": {},
   "source": [
    "## Splitting data into train data & test data"
   ]
  },
  {
   "cell_type": "code",
   "execution_count": 11,
   "metadata": {},
   "outputs": [],
   "source": [
    "X_train, X_val, Y_train, Y_val = train_test_split(X, yOHE, test_size=0.1, random_state=2)"
   ]
  },
  {
   "cell_type": "markdown",
   "metadata": {},
   "source": [
    "## Creating our model using Keras"
   ]
  },
  {
   "cell_type": "code",
   "execution_count": 13,
   "metadata": {},
   "outputs": [],
   "source": [
    "model = keras.models.Sequential()\n",
    "\n",
    "model.add(keras.layers.Conv2D(filters=32, kernel_size=(5,5), activation='relu', padding='Same', input_shape=(28,28,1)))\n",
    "model.add(keras.layers.Conv2D(filters=32, kernel_size=(5,5), activation='relu', padding='Same'))\n",
    "model.add(keras.layers.MaxPool2D(pool_size=(2,2)))\n",
    "model.add(keras.layers.Dropout(0.5))\n",
    "\n",
    "model.add(keras.layers.Conv2D(filters=32, kernel_size=(3,3), activation='relu', padding='Same'))\n",
    "model.add(keras.layers.Conv2D(filters=32, kernel_size=(3,3), activation='relu', padding='Same'))\n",
    "model.add(keras.layers.MaxPool2D(pool_size=(2,2), strides=(2,2)))\n",
    "\n",
    "model.add(keras.layers.Conv2D(filters=96, kernel_size=(3,3), activation='relu', padding='Same'))\n",
    "model.add(keras.layers.Conv2D(filters=96, kernel_size=(3,3), activation='relu', padding='Same'))\n",
    "model.add(keras.layers.MaxPool2D(pool_size=(2,2), strides=(2,2)))\n",
    "model.add(keras.layers.Dropout(0.5))\n",
    "\n",
    "model.add(keras.layers.Flatten())\n",
    "model.add(keras.layers.Dense(256, activation='relu'))\n",
    "model.add(keras.layers.Dropout(0.5))\n",
    "model.add(keras.layers.Dense(10, activation='softmax'))"
   ]
  },
  {
   "cell_type": "markdown",
   "metadata": {},
   "source": [
    "## Setting optimizer & annealer"
   ]
  },
  {
   "cell_type": "code",
   "execution_count": 14,
   "metadata": {},
   "outputs": [],
   "source": [
    "#optim = keras.optimizers.RMSprop(lr=0.001,rho=0.9, epsilon=1e-08, decay=0.0)\n",
    "#optim = keras.optimizers.Adam(lr=0.001, beta_1=0.9, beta_2=0.999, epsilon=1e-08, decay=0.0001) ---> val_acc = 99.59\n",
    "optim = keras.optimizers.Adadelta()\n",
    "lr_reducer = keras.callbacks.ReduceLROnPlateau(monitor='val_loss', factor=0.5, patience=3, verbose=1, min_lr=0.00001)\n",
    "model.compile(optimizer=optim, loss='categorical_crossentropy', metrics=['accuracy'])"
   ]
  },
  {
   "cell_type": "markdown",
   "metadata": {},
   "source": [
    "## Data Augmentation"
   ]
  },
  {
   "cell_type": "code",
   "execution_count": 16,
   "metadata": {},
   "outputs": [],
   "source": [
    "datagen = keras.preprocessing.image.ImageDataGenerator(\n",
    "        featurewise_center=False,                         # set input mean to 0 over the dataset\n",
    "        samplewise_center=False,                          # set each sample mean to 0\n",
    "        featurewise_std_normalization=False,              # divide inputs by std of the dataset\n",
    "        samplewise_std_normalization=False,               # divide each input by its std\n",
    "        zca_whitening=False,                              # apply ZCA whitening\n",
    "        rotation_range=10,                                # randomly rotate images in the range (degrees, 0 to 180)\n",
    "        zoom_range = 0.15,                                # Randomly zoom image \n",
    "        width_shift_range=0.1,                            # randomly shift images horizontally (fraction of total width)\n",
    "        height_shift_range=0.1,                           # randomly shift images vertically (fraction of total height)\n",
    "        horizontal_flip=False,                            # randomly flip images\n",
    "        vertical_flip=False)                              # randomly flip images\n",
    "\n",
    "datagen.fit(X_train)"
   ]
  },
  {
   "cell_type": "markdown",
   "metadata": {},
   "source": [
    "## Callbacks"
   ]
  },
  {
   "cell_type": "code",
   "execution_count": 17,
   "metadata": {},
   "outputs": [],
   "source": [
    "filepath=\"BestWeights_Adadelta.h5\"\n",
    "checkpoint = keras.callbacks.ModelCheckpoint(filepath, monitor='val_acc', verbose=1, save_best_only=True, mode='max')\n",
    "callbacks_list = [checkpoint]\n",
    "callbacks_list.append(lr_reducer)"
   ]
  },
  {
   "cell_type": "markdown",
   "metadata": {},
   "source": [
    "## Model Training"
   ]
  },
  {
   "cell_type": "code",
   "execution_count": 18,
   "metadata": {
    "scrolled": true
   },
   "outputs": [
    {
     "name": "stdout",
     "output_type": "stream",
     "text": [
      "Epoch 1/30\n",
      "590/590 [==============================] - 46s 78ms/step - loss: 0.6859 - acc: 0.7705 - val_loss: 0.0706 - val_acc: 0.9812\n",
      "\n",
      "Epoch 00001: val_acc improved from -inf to 0.98119, saving model to BestWeights_Adadelta.h5\n",
      "Epoch 2/30\n",
      "590/590 [==============================] - 37s 63ms/step - loss: 0.1574 - acc: 0.9523 - val_loss: 0.0442 - val_acc: 0.9883\n",
      "\n",
      "Epoch 00002: val_acc improved from 0.98119 to 0.98833, saving model to BestWeights_Adadelta.h5\n",
      "Epoch 3/30\n",
      "590/590 [==============================] - 37s 62ms/step - loss: 0.1162 - acc: 0.9672 - val_loss: 0.0494 - val_acc: 0.9867\n",
      "\n",
      "Epoch 00003: val_acc did not improve from 0.98833\n",
      "Epoch 4/30\n",
      "590/590 [==============================] - 37s 63ms/step - loss: 0.0971 - acc: 0.9722 - val_loss: 0.0346 - val_acc: 0.9895\n",
      "\n",
      "Epoch 00004: val_acc improved from 0.98833 to 0.98952, saving model to BestWeights_Adadelta.h5\n",
      "Epoch 5/30\n",
      "590/590 [==============================] - 38s 64ms/step - loss: 0.0865 - acc: 0.9751 - val_loss: 0.0390 - val_acc: 0.9898\n",
      "\n",
      "Epoch 00005: val_acc improved from 0.98952 to 0.98976, saving model to BestWeights_Adadelta.h5\n",
      "Epoch 6/30\n",
      "590/590 [==============================] - 36s 61ms/step - loss: 0.0756 - acc: 0.9775 - val_loss: 0.0290 - val_acc: 0.9919\n",
      "\n",
      "Epoch 00006: val_acc improved from 0.98976 to 0.99190, saving model to BestWeights_Adadelta.h5\n",
      "Epoch 7/30\n",
      "590/590 [==============================] - 36s 61ms/step - loss: 0.0705 - acc: 0.9793 - val_loss: 0.0271 - val_acc: 0.9929\n",
      "\n",
      "Epoch 00007: val_acc improved from 0.99190 to 0.99286, saving model to BestWeights_Adadelta.h5\n",
      "Epoch 8/30\n",
      "590/590 [==============================] - 37s 62ms/step - loss: 0.0649 - acc: 0.9818 - val_loss: 0.0243 - val_acc: 0.9921\n",
      "\n",
      "Epoch 00008: val_acc did not improve from 0.99286\n",
      "Epoch 9/30\n",
      "590/590 [==============================] - 37s 63ms/step - loss: 0.0615 - acc: 0.9821 - val_loss: 0.0234 - val_acc: 0.9931\n",
      "\n",
      "Epoch 00009: val_acc improved from 0.99286 to 0.99310, saving model to BestWeights_Adadelta.h5\n",
      "Epoch 10/30\n",
      "590/590 [==============================] - 37s 63ms/step - loss: 0.0612 - acc: 0.9830 - val_loss: 0.0244 - val_acc: 0.9933\n",
      "\n",
      "Epoch 00010: val_acc improved from 0.99310 to 0.99333, saving model to BestWeights_Adadelta.h5\n",
      "Epoch 11/30\n",
      "590/590 [==============================] - 38s 64ms/step - loss: 0.0568 - acc: 0.9836 - val_loss: 0.0192 - val_acc: 0.9945\n",
      "\n",
      "Epoch 00011: val_acc improved from 0.99333 to 0.99452, saving model to BestWeights_Adadelta.h5\n",
      "Epoch 12/30\n",
      "590/590 [==============================] - 38s 64ms/step - loss: 0.0525 - acc: 0.9845 - val_loss: 0.0269 - val_acc: 0.9929\n",
      "\n",
      "Epoch 00012: val_acc did not improve from 0.99452\n",
      "Epoch 13/30\n",
      "590/590 [==============================] - 38s 64ms/step - loss: 0.0520 - acc: 0.9853 - val_loss: 0.0216 - val_acc: 0.9945\n",
      "\n",
      "Epoch 00013: val_acc improved from 0.99452 to 0.99452, saving model to BestWeights_Adadelta.h5\n",
      "Epoch 14/30\n",
      "590/590 [==============================] - 37s 64ms/step - loss: 0.0489 - acc: 0.9861 - val_loss: 0.0178 - val_acc: 0.9955\n",
      "\n",
      "Epoch 00014: val_acc improved from 0.99452 to 0.99548, saving model to BestWeights_Adadelta.h5\n",
      "Epoch 15/30\n",
      "590/590 [==============================] - 38s 64ms/step - loss: 0.0504 - acc: 0.9869 - val_loss: 0.0217 - val_acc: 0.9940\n",
      "\n",
      "Epoch 00015: val_acc did not improve from 0.99548\n",
      "Epoch 16/30\n",
      "590/590 [==============================] - 38s 64ms/step - loss: 0.0461 - acc: 0.9871 - val_loss: 0.0204 - val_acc: 0.9938\n",
      "\n",
      "Epoch 00016: val_acc did not improve from 0.99548\n",
      "Epoch 17/30\n",
      "590/590 [==============================] - 38s 64ms/step - loss: 0.0490 - acc: 0.9860 - val_loss: 0.0254 - val_acc: 0.9938\n",
      "\n",
      "Epoch 00017: val_acc did not improve from 0.99548\n",
      "\n",
      "Epoch 00017: ReduceLROnPlateau reducing learning rate to 0.5.\n",
      "Epoch 18/30\n",
      "590/590 [==============================] - 38s 64ms/step - loss: 0.0364 - acc: 0.9896 - val_loss: 0.0178 - val_acc: 0.9955\n",
      "\n",
      "Epoch 00018: val_acc did not improve from 0.99548\n",
      "Epoch 19/30\n",
      "590/590 [==============================] - 38s 64ms/step - loss: 0.0345 - acc: 0.9900 - val_loss: 0.0241 - val_acc: 0.9950\n",
      "\n",
      "Epoch 00019: val_acc did not improve from 0.99548\n",
      "Epoch 20/30\n",
      "590/590 [==============================] - 38s 64ms/step - loss: 0.0325 - acc: 0.9904 - val_loss: 0.0269 - val_acc: 0.9945\n",
      "\n",
      "Epoch 00020: val_acc did not improve from 0.99548\n",
      "\n",
      "Epoch 00020: ReduceLROnPlateau reducing learning rate to 0.25.\n",
      "Epoch 21/30\n",
      "590/590 [==============================] - 38s 64ms/step - loss: 0.0301 - acc: 0.9909 - val_loss: 0.0214 - val_acc: 0.9955\n",
      "\n",
      "Epoch 00021: val_acc improved from 0.99548 to 0.99548, saving model to BestWeights_Adadelta.h5\n",
      "Epoch 22/30\n",
      "590/590 [==============================] - 38s 64ms/step - loss: 0.0303 - acc: 0.9918 - val_loss: 0.0195 - val_acc: 0.9948\n",
      "\n",
      "Epoch 00022: val_acc did not improve from 0.99548\n",
      "Epoch 23/30\n",
      "590/590 [==============================] - 38s 64ms/step - loss: 0.0291 - acc: 0.9917 - val_loss: 0.0201 - val_acc: 0.9952\n",
      "\n",
      "Epoch 00023: val_acc did not improve from 0.99548\n",
      "\n",
      "Epoch 00023: ReduceLROnPlateau reducing learning rate to 0.125.\n",
      "Epoch 24/30\n",
      "590/590 [==============================] - 38s 64ms/step - loss: 0.0239 - acc: 0.9932 - val_loss: 0.0213 - val_acc: 0.9960\n",
      "\n",
      "Epoch 00024: val_acc improved from 0.99548 to 0.99595, saving model to BestWeights_Adadelta.h5\n",
      "Epoch 25/30\n",
      "590/590 [==============================] - 38s 64ms/step - loss: 0.0256 - acc: 0.9923 - val_loss: 0.0194 - val_acc: 0.9960\n",
      "\n",
      "Epoch 00025: val_acc did not improve from 0.99595\n",
      "Epoch 26/30\n",
      "590/590 [==============================] - 37s 63ms/step - loss: 0.0272 - acc: 0.9926 - val_loss: 0.0214 - val_acc: 0.9955\n",
      "\n",
      "Epoch 00026: val_acc did not improve from 0.99595\n",
      "\n",
      "Epoch 00026: ReduceLROnPlateau reducing learning rate to 0.0625.\n",
      "Epoch 27/30\n",
      "590/590 [==============================] - 37s 64ms/step - loss: 0.0244 - acc: 0.9929 - val_loss: 0.0199 - val_acc: 0.9962\n",
      "\n",
      "Epoch 00027: val_acc improved from 0.99595 to 0.99619, saving model to BestWeights_Adadelta.h5\n",
      "Epoch 28/30\n",
      "590/590 [==============================] - 38s 64ms/step - loss: 0.0234 - acc: 0.9933 - val_loss: 0.0199 - val_acc: 0.9962\n",
      "\n",
      "Epoch 00028: val_acc did not improve from 0.99619\n",
      "Epoch 29/30\n",
      "590/590 [==============================] - 37s 63ms/step - loss: 0.0243 - acc: 0.9927 - val_loss: 0.0190 - val_acc: 0.9964\n",
      "\n",
      "Epoch 00029: val_acc improved from 0.99619 to 0.99643, saving model to BestWeights_Adadelta.h5\n",
      "\n",
      "Epoch 00029: ReduceLROnPlateau reducing learning rate to 0.03125.\n",
      "Epoch 30/30\n",
      "590/590 [==============================] - 37s 63ms/step - loss: 0.0242 - acc: 0.9932 - val_loss: 0.0194 - val_acc: 0.9964\n",
      "\n",
      "Epoch 00030: val_acc did not improve from 0.99643\n"
     ]
    }
   ],
   "source": [
    "batch_size = 64\n",
    "history = model.fit_generator(  datagen.flow(X_train, Y_train, batch_size=batch_size), \n",
    "                             epochs=30, \n",
    "                             validation_data=(X_val, Y_val),\n",
    "                             steps_per_epoch=X_train.shape[0] // batch_size, \n",
    "                             callbacks=callbacks_list, \n",
    "                             verbose=1\n",
    "                          )"
   ]
  },
  {
   "cell_type": "markdown",
   "metadata": {},
   "source": [
    "## Visualising loss & accuracy curves"
   ]
  },
  {
   "cell_type": "code",
   "execution_count": 28,
   "metadata": {},
   "outputs": [
    {
     "data": {
      "image/png": "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\n",
      "text/plain": [
       "<Figure size 432x288 with 2 Axes>"
      ]
     },
     "metadata": {},
     "output_type": "display_data"
    }
   ],
   "source": [
    "fig, ax = plt.subplots(2,1)\n",
    "ax[0].plot(history.history['loss'], color='b', label=\"Training loss\")\n",
    "ax[0].plot(history.history['val_loss'], color='r', label=\"validation loss\",axes =ax[0])\n",
    "legend = ax[0].legend(loc='best', shadow=True)\n",
    "\n",
    "ax[1].plot(history.history['acc'], color='b', label=\"Training accuracy\")\n",
    "ax[1].plot(history.history['val_acc'], color='r',label=\"Validation accuracy\")\n",
    "legend = ax[1].legend(loc='best', shadow=True)"
   ]
  },
  {
   "cell_type": "markdown",
   "metadata": {},
   "source": [
    "## Loading best weights saved in file while training"
   ]
  },
  {
   "cell_type": "code",
   "execution_count": 30,
   "metadata": {},
   "outputs": [],
   "source": [
    "model.load_weights('BestWeights_Adadelta.h5')"
   ]
  },
  {
   "cell_type": "markdown",
   "metadata": {},
   "source": [
    "## Predicting test data"
   ]
  },
  {
   "cell_type": "code",
   "execution_count": 31,
   "metadata": {},
   "outputs": [
    {
     "name": "stdout",
     "output_type": "stream",
     "text": [
      "28000/28000 [==============================] - 7s 260us/step\n"
     ]
    }
   ],
   "source": [
    "preds = model.predict(test, batch_size=batch_size, verbose = 1)"
   ]
  },
  {
   "cell_type": "code",
   "execution_count": 32,
   "metadata": {},
   "outputs": [],
   "source": [
    "final_preds = np.argmax(preds, axis=1)"
   ]
  },
  {
   "cell_type": "code",
   "execution_count": 33,
   "metadata": {},
   "outputs": [
    {
     "data": {
      "text/plain": [
       "array([2, 0, 9, ..., 3, 9, 2], dtype=int64)"
      ]
     },
     "execution_count": 33,
     "metadata": {},
     "output_type": "execute_result"
    }
   ],
   "source": [
    "final_preds"
   ]
  },
  {
   "cell_type": "code",
   "execution_count": 34,
   "metadata": {},
   "outputs": [
    {
     "data": {
      "text/plain": [
       "<matplotlib.image.AxesImage at 0x18342e9bd68>"
      ]
     },
     "execution_count": 34,
     "metadata": {},
     "output_type": "execute_result"
    },
    {
     "data": {
      "image/png": "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\n",
      "text/plain": [
       "<Figure size 432x288 with 1 Axes>"
      ]
     },
     "metadata": {},
     "output_type": "display_data"
    }
   ],
   "source": [
    "plt.imshow(test[27977,:,:,0], cmap='gray')"
   ]
  },
  {
   "cell_type": "markdown",
   "metadata": {},
   "source": [
    "## Creating file for submission"
   ]
  },
  {
   "cell_type": "code",
   "execution_count": 42,
   "metadata": {},
   "outputs": [],
   "source": [
    "dictionary = {'Label':final_preds}"
   ]
  },
  {
   "cell_type": "code",
   "execution_count": 43,
   "metadata": {},
   "outputs": [],
   "source": [
    "pred_df = pd.DataFrame(data=dictionary, index=list(range(1,len(final_preds)+1)))"
   ]
  },
  {
   "cell_type": "code",
   "execution_count": 47,
   "metadata": {},
   "outputs": [
    {
     "data": {
      "text/plain": [
       "'Accuracy on kaggle :- 99.62% ----> Top 10% '"
      ]
     },
     "execution_count": 47,
     "metadata": {},
     "output_type": "execute_result"
    }
   ],
   "source": [
    "pred_df.to_csv('submission.csv')\n",
    "\"\"\"Accuracy on kaggle :- 99.62% ----> Top 10% \"\"\""
   ]
  },
  {
   "cell_type": "markdown",
   "metadata": {},
   "source": [
    "## You can achieve upto 99.62% of accuracy using this kernel on Kaggle - Digit Recognizer"
   ]
  }
 ],
 "metadata": {
  "kernelspec": {
   "display_name": "Python 3",
   "language": "python",
   "name": "python3"
  }
 },
 "nbformat": 4,
 "nbformat_minor": 2
}
